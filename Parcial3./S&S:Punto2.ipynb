{
  "nbformat": 4,
  "nbformat_minor": 0,
  "metadata": {
    "colab": {
      "private_outputs": true,
      "provenance": [],
      "include_colab_link": true
    },
    "kernelspec": {
      "name": "python3",
      "display_name": "Python 3"
    },
    "language_info": {
      "name": "python"
    }
  },
  "cells": [
    {
      "cell_type": "markdown",
      "metadata": {
        "id": "view-in-github",
        "colab_type": "text"
      },
      "source": [
        "<a href=\"https://colab.research.google.com/github/Matceo/SyS./blob/main/Parcial3./S%26S%3APunto2.ipynb\" target=\"_parent\"><img src=\"https://colab.research.google.com/assets/colab-badge.svg\" alt=\"Open In Colab\"/></a>"
      ]
    },
    {
      "cell_type": "code",
      "source": [
        "#Ejercicio1\n",
        "\n",
        "!python3 -m pip install --force-reinstall https://github.com/yt-dlp/yt-dlp/archive/master.tar.gz\n",
        "\n",
        "import os\n",
        "import yt_dlp as youtube_dl\n",
        "def download_ytvid_as_mp3(video_url, name):\n",
        "\n",
        "    video_info=youtube_dl.YoutubeDL().extract_info(url=video_url,download=False)\n",
        "    filename=f\"{name}.mp3\"\n",
        "    options={\n",
        "        'format':'bestaudio/best',\n",
        "        'keepvideo':False,\n",
        "        'outtmpl':filename,\n",
        "    }\n",
        "    with youtube_dl.YoutubeDL(options) as ydl:\n",
        "        ydl.download([video_info['webpage_url']])\n",
        "    print(\"Download complete... {}\".format(filename))\n",
        "\n",
        "#Descargamos la canción de interés:\n",
        "\n",
        "link_=[\"https://www.youtube.com/watch?v=4aPfwRbhqHs\"]\n",
        "name_=['Myke Towers']\n",
        "for name, link in zip(name_, link_):\n",
        "    print(name)\n",
        "    download_ytvid_as_mp3(link, name)\n",
        "\n",
        "#Para convertir a mp3:\n",
        "\n",
        "import subprocess\n",
        "\n",
        "for name in name_:\n",
        "    subprocess.call(['ffmpeg', '-y', '-i', name+'.mp3',\n",
        "                   name+'.wav'])\n",
        "!pip install soundfile #Para instalar soundfile\n",
        "\n",
        "import soundfile as sf #Para instalar pip install soundfile\n",
        "from IPython.display import Audio #Librería para reproducir audios\n",
        "\n",
        "#Para leer archivos .wav:\n",
        "\n",
        "for name in name_:\n",
        "    nombre_out=\"output.wav\"\n",
        "    x, fs=sf.read(name+'.wav')\n",
        "    print('Frecuencia de muestreo %.2f[Hz]\\naudio %s'%(fs, name+'.wav'))\n",
        "xpro=x.copy() #Copiar los archivos para procesar\n",
        "ti=45 #Tiempo de inicio a procesar en segundos\n",
        "tf=50 #Tiempo final a procesar en segundos\n",
        "m=xpro[int(ti*fs):int((tf*fs)), 0] #Señal de mensaje en el primer canal"
      ],
      "metadata": {
        "id": "N-QDaoix8YEE"
      },
      "execution_count": null,
      "outputs": []
    },
    {
      "cell_type": "code",
      "source": [
        "#Repoducir el fragmento original de la señal mensaje:\n",
        "\n",
        "Audio(m, rate=fs)"
      ],
      "metadata": {
        "id": "--lr_sMGq8Lg"
      },
      "execution_count": null,
      "outputs": []
    },
    {
      "cell_type": "code",
      "source": [
        "%matplotlib inline\n",
        "import numpy as np\n",
        "import matplotlib.pyplot as plt\n",
        "import sympy as sym\n",
        "\n",
        "#Señal mensaje en tiempo y frecuencia:\n",
        "\n",
        "tt = np.arange(ti,tf,1/fs) # vector de tiempo\n",
        "plt.plot(tt,m) #graficar señal mensaje en el tiempo\n",
        "plt.xlabel('Tiempo [s]')\n",
        "plt.ylabel('m(t)')\n",
        "plt.show()\n",
        "\n",
        "#Fourier a la señal mensaje:\n",
        "\n",
        "Mw=np.fft.rfft(m) #axis=0 permite aplicar FFT por cada columna de xpro\n",
        "vf=np.fft.rfftfreq(m.shape[0], 1/fs) #Se crea el vector de frecuencias\n",
        "plt.plot(vf, abs(Mw)) #Se grafica la magnitud\n",
        "plt.title(r'Espectro de la Señal Mensaje')\n",
        "plt.xlabel(r'$f[Hz]$', fontsize=14)\n",
        "plt.ylabel(r'$|M[f]|$', fontsize=14)\n",
        "plt.show()\n",
        "plt.plot(vf, np.angle(Mw)) #Fase del espectro\n",
        "plt.xlabel(r'$f[Hz]$', fontsize=14)\n",
        "plt.ylabel(r'$<M[f]$', fontsize=14)\n",
        "plt.show()\n",
        "Fo=12000 #Frecuencia de la señal portadora\n",
        "c=np.cos(2*np.pi*Fo*tt) #Señal portadora"
      ],
      "metadata": {
        "id": "YxXObTfNrBkv"
      },
      "execution_count": null,
      "outputs": []
    },
    {
      "cell_type": "code",
      "source": [
        "#Repoducimos la señal portadora:\n",
        "\n",
        "Audio(c, rate=fs)"
      ],
      "metadata": {
        "id": "EXp_qd9_rWzi"
      },
      "execution_count": null,
      "outputs": []
    },
    {
      "cell_type": "code",
      "source": [
        "#Señal portadora en el tiempo y la frecuencia:\n",
        "\n",
        "plt.plot(tt, c) #Graficar la señal mensaje en el tiempo\n",
        "plt.xlabel('$Tiempo [s]$')\n",
        "plt.ylabel('$c(t)$')\n",
        "plt.show()\n",
        "\n",
        "#Fourier a la señal portadora:\n",
        "\n",
        "Cw=np.fft.rfft(c) #axis=0 permite aplicar FFT por cada columna de xpro\n",
        "plt.plot(vf, abs(Cw)) #Se grafica la magnitud\n",
        "plt.title(r'Espectro de la Señal Portadora')\n",
        "plt.xlabel(r'$f[Hz]$', fontsize=14)\n",
        "plt.ylabel(r'$|C[f]|$', fontsize=14)\n",
        "plt.show()\n",
        "plt.plot(vf, np.angle(Cw)) #Fase del espectro\n",
        "plt.xlabel(r'$f[Hz]$', fontsize=14)\n",
        "plt.ylabel(r'$<C[f]$', fontsize=14)\n",
        "plt.show()\n",
        "\n",
        "#Para la señal modulada:\n",
        "\n",
        "A1=2\n",
        "y=A1*m*c #Señal modulada en AM"
      ],
      "metadata": {
        "id": "mzlhyJBbrdKp"
      },
      "execution_count": null,
      "outputs": []
    },
    {
      "cell_type": "code",
      "source": [
        "#Repoducir la señal modulada:\n",
        "\n",
        "Audio(y, rate=fs)"
      ],
      "metadata": {
        "id": "KJ1enhVirw2g"
      },
      "execution_count": null,
      "outputs": []
    },
    {
      "cell_type": "code",
      "source": [
        "plt.plot(tt, y) #Graficar la señal modulada en el tiempo\n",
        "plt.xlabel('$Tiempo [s]$')\n",
        "plt.ylabel('$y(t)$')\n",
        "plt.show()\n",
        "\n",
        "#Fourier a la señal modulada:\n",
        "\n",
        "Yw=np.fft.rfft(y) #axis=0 permite aplicar FFT por cada columna de xpro\n",
        "plt.plot(vf, abs(Yw)) #Se grafica la magnitud\n",
        "plt.title(r'Espectro de la Señal Modulada')\n",
        "plt.xlabel(r'$f[Hz]$', fontsize=14)\n",
        "plt.ylabel(r'$|Y[f]|$', fontsize=14)\n",
        "plt.show()\n",
        "plt.plot(vf, np.angle(Yw)) #Fase del espectro\n",
        "plt.xlabel(r'$f[Hz]$', fontsize=14)\n",
        "plt.ylabel(r'$<Y[f]$', fontsize=14)\n",
        "plt.show()"
      ],
      "metadata": {
        "id": "jhTIne5jr1ze"
      },
      "execution_count": null,
      "outputs": []
    },
    {
      "cell_type": "code",
      "source": [
        "#Etapa 1: Mixer:\n",
        "\n",
        "d=y*c #Señal demodulada\n",
        "Audio(d, rate=fs) #Repoducir la señal demodulada"
      ],
      "metadata": {
        "id": "HIS72L55sHwo"
      },
      "execution_count": null,
      "outputs": []
    },
    {
      "cell_type": "code",
      "source": [
        "plt.plot(tt, d) #Graficar la señal demodulada en el tiempo\n",
        "plt.xlabel('$Tiempo [s]$')\n",
        "plt.ylabel('$d(t)$')\n",
        "plt.show()\n",
        "\n",
        "#Fourier a la señal demodulada:\n",
        "\n",
        "Dw=np.fft.rfft(d) #axis=0 permite aplicar FFT por cada columna de xpro\n",
        "plt.plot(vf, abs(Dw)) #Se grafica la magnitud\n",
        "plt.title(r'Espectro de la Señal Modulada')\n",
        "plt.xlabel(r'$f[Hz]$', fontsize=14)\n",
        "plt.ylabel(r'$|D[f]|$', fontsize=14)\n",
        "plt.show()\n",
        "plt.plot(vf, np.angle(Dw)) #Fase del espectro\n",
        "plt.xlabel(r'$f[Hz]$', fontsize=14)\n",
        "plt.ylabel(r'$<D[f]$', fontsize=14)\n",
        "plt.show()\n",
        "\n",
        "#Etapa 2: Filtro Pasabajas:\n",
        "\n",
        "from scipy.signal import butter, cheby1, cheby2, bessel, lfilter, freqz, freqz_zpk, filtfilt\n",
        "import matplotlib.pyplot as plt\n",
        "import numpy as np\n",
        "\n",
        "#Diseño del filtro Butteworth:\n",
        "\n",
        "N=10 #Orden del filtro\n",
        "Wn=15000 #Banda pasante\n",
        "filt='lowpass' #Tipo del filtro (pasa-baja, pasa-alta, pasabanda, rechazabanda)\n",
        "out='zpk' #La funcion retorna los polos y ceros junto con la ganancia. Para usar numerador y denominador usar 'ba' junto con freqz\n",
        "zeros, poles, gain = butter(N, Wn, btype=filt, output=out, fs=fs)\n",
        "w, h=freqz_zpk(zeros, poles, gain, fs=fs) #Para indicar la longitud usar worN=K\n",
        "\n",
        "from matplotlib.patches import Circle\n",
        "\n",
        "#Gráfica de polos y ceros:\n",
        "\n",
        "def plot_freq_response(filter_name, w, h, N): #Mostrar la respuesta en frecuencia del filtro\n",
        "  fig=plt.figure()\n",
        "  ax1=fig.add_subplot(1, 1, 1)\n",
        "  ax1.set_title(filter_name +' Digital filter frequency response, order= '+str(N))\n",
        "  ax1.plot(w, 20*np.log10(abs(h)), 'b')\n",
        "  ax1.set_ylabel('Amplitud [dB]', color='b')\n",
        "  ax1.set_xlabel('Frecuencia [Hz]')\n",
        "  ax1.grid()\n",
        "  ax2=ax1.twinx()\n",
        "  angles=np.unwrap(np.angle(h))\n",
        "  ax2.plot(w, angles, 'g')\n",
        "  ax2.set_ylabel('Ángulo [radianes]', color='g')\n",
        "  plt.axis('tight')\n",
        "  plt.show()\n",
        "\n",
        "def show_zp(z, p, title='Z-plane'): #Mostrar la ubicación de los polos y los ceros\n",
        "\n",
        "  ax=plt.gca()\n",
        "  ax.plot(np.real(z), np.imag(z), 'bo', fillstyle='none', ms=10)\n",
        "  ax.plot(np.real(p), np.imag(p), 'rx', fillstyle='none', ms=10)\n",
        "  unit_circle=Circle((0, 0), radius=1, fill=False,\n",
        "                        color='black', ls='solid', alpha=0.9)\n",
        "  ax.add_patch(unit_circle)\n",
        "  ax.axvline(0, color='0.7')\n",
        "  ax.axhline(0, color='0.7')\n",
        "  plt.title(title)\n",
        "  plt.xlabel(r'Re{$z$}')\n",
        "  plt.ylabel(r'Im{$z$}')\n",
        "  plt.axis('equal')\n",
        "  plt.xlim((-2, 2))\n",
        "  plt.ylim((-2, 2))\n",
        "  plt.grid()\n",
        "\n",
        "show_zp(zeros, poles, title='Polos y Ceros') #Gráfica de polos y ceros\n",
        "plot_freq_response('Butterworth', w, h, N) #Gráfica del Diagrama de Bode del filtro"
      ],
      "metadata": {
        "id": "xqOqqi3XsWq0"
      },
      "execution_count": null,
      "outputs": []
    },
    {
      "cell_type": "code",
      "source": [
        "#Aplicación del Filtro de Butterworth a la canción:\n",
        "\n",
        "out='ba'\n",
        "num, den=butter(N, Wn, btype=filt, output=out, fs=fs)\n",
        "xf=lfilter(num, den, d, axis=0)\n",
        "Audio(xf, rate=fs) #Audio con ruido filtrado"
      ],
      "metadata": {
        "id": "ZGhVNa5Esjat"
      },
      "execution_count": null,
      "outputs": []
    },
    {
      "cell_type": "code",
      "source": [
        "#Etapa 3: Escalamiento de Amplitud:\n",
        "\n",
        "me=(2/A1)*xf #Señal reescalada\n",
        "Audio(me, rate=fs) #Audio con ruido filtrado"
      ],
      "metadata": {
        "id": "OaC7WGnWsuaq"
      },
      "execution_count": null,
      "outputs": []
    },
    {
      "cell_type": "code",
      "source": [
        "plt.plot(tt, me) #Graficar señal recuperada\n",
        "plt.xlabel('$Tiempo [s]$')\n",
        "plt.ylabel('$m_e(t)$')\n",
        "plt.show()\n",
        "\n",
        "#Fourier a la señal recuperada:\n",
        "\n",
        "Mew=np.fft.rfft(me) #axis=0 permite aplicar FFT por cada columna de xpro\n",
        "plt.plot(vf, abs(Mew)) #Se grafica la magnitud\n",
        "plt.title(r'Espectro de la Señal Recuperada')\n",
        "plt.xlabel(r'$f[Hz]$', fontsize=14)\n",
        "plt.ylabel(r'$|M_e[f]|$',fontsize=14)\n",
        "plt.show()\n",
        "plt.plot(vf, np.angle(Mew)) #Fase del espectro\n",
        "plt.xlabel(r'$f[Hz]$', fontsize=14)\n",
        "plt.ylabel(r'$<M_e[f]$', fontsize=14)\n",
        "plt.show()\n",
        "\n",
        "#Diseño del Filtro de Bessel:\n",
        "\n",
        "N=4\n",
        "out='ba'\n",
        "filt='lowpass' #Tipo del filtro (pasa-baja, pasa-alta, pasabanda, rechazabanda)\n",
        "normalization='mag' #Ajusta la frecuencia crítica según la respuesta que se desea\n",
        "num, den=bessel(N, Wn=Wn, btype=filt, norm=normalization, output=out, fs=fs) #Regresa el numerador y el denominador. Si se quiere obtener los polos y ceros usar scipy.signal.tf2zpk\n",
        "w, h=freqz(num, den, fs=fs)\n",
        "plot_freq_response('Bessel', w, h, N)"
      ],
      "metadata": {
        "id": "d70tbrZLs66S"
      },
      "execution_count": null,
      "outputs": []
    },
    {
      "cell_type": "code",
      "source": [
        "#Aplicación del Filtro de Bessel a la canción:\n",
        "\n",
        "xf=lfilter(num, den, d, axis=0)\n",
        "Audio(xf,rate=fs) #Audio con ruido filtrado"
      ],
      "metadata": {
        "id": "zVVYUEP5tMPF"
      },
      "execution_count": null,
      "outputs": []
    },
    {
      "cell_type": "code",
      "source": [
        "#Escalamiento de la amplitud:\n",
        "\n",
        "me=(2/A1)*xf #señal reescalada\n",
        "Audio(me, rate=fs) #Audio con ruido filtrado"
      ],
      "metadata": {
        "id": "1oFIrT3wtvMu"
      },
      "execution_count": null,
      "outputs": []
    },
    {
      "cell_type": "code",
      "source": [
        "plt.plot(tt, me) #Graficar la señal recuperada\n",
        "plt.xlabel('$Tiempo [s]$')\n",
        "plt.ylabel('$m_e(t)$')\n",
        "plt.show()\n",
        "\n",
        "#Diseño del Filtro de Chebyshev1:\n",
        "\n",
        "N=4\n",
        "ripple=10\n",
        "out='zpk'\n",
        "zeros, poles, gain=cheby1(N, rp=ripple, Wn=Wn, btype=filt, output=out, fs=fs)\n",
        "w, h=freqz_zpk(zeros, poles, gain, fs=fs)\n",
        "plot_freq_response('Chebyshev1', w, h, N)"
      ],
      "metadata": {
        "id": "mttrbrentjuO"
      },
      "execution_count": null,
      "outputs": []
    },
    {
      "cell_type": "code",
      "source": [
        "#Aplicación del Filtro de Chebyshev 1:\n",
        "\n",
        "out='ba'\n",
        "num, de=cheby1(N, rp=ripple, Wn=Wn, btype=filt, output=out, fs=fs)\n",
        "xf=lfilter(num, den, d, axis=0)\n",
        "Audio(xf, rate=fs) #Audio con ruido filtrado"
      ],
      "metadata": {
        "id": "l_qDXCcDun2S"
      },
      "execution_count": null,
      "outputs": []
    },
    {
      "cell_type": "code",
      "source": [
        "#Escalamiento de la amplitud:\n",
        "\n",
        "me=(2/A1)*xf #Señal reescalada\n",
        "Audio(me, rate=fs) #Audio con ruido filtrado"
      ],
      "metadata": {
        "id": "TSz8pqbduwtJ"
      },
      "execution_count": null,
      "outputs": []
    },
    {
      "cell_type": "code",
      "source": [
        "plt.plot(tt, me) #Graficar señal recuperada\n",
        "plt.xlabel('$Tiempo [s]$')\n",
        "plt.ylabel('$m_e(t)$')\n",
        "plt.show()\n",
        "\n",
        "#Fourier señal recuperada:\n",
        "\n",
        "Mew=np.fft.rfft(me) #axis=0 permite aplicar FFT por cada columna de xpro\n",
        "plt.plot(vf, abs(Mew)) #Se grafica la magnitud\n",
        "plt.title(r'Espectro de la Señal Recuperada')\n",
        "plt.xlabel(r'$f[Hz]$', fontsize=14)\n",
        "plt.ylabel(r'$|M_e[f]|$', fontsize=14)\n",
        "plt.show()\n",
        "plt.plot(vf, np.angle(Mew)) #Fase del espectro\n",
        "plt.xlabel(r'$f[Hz]$', fontsize=14)\n",
        "plt.ylabel(r'$<M_e[f]$', fontsize=14)\n",
        "plt.show()\n",
        "\n",
        "#Diseño del Filtro de Chebyshev 2:\n",
        "\n",
        "N=4\n",
        "ripple=20\n",
        "out='ba' #No regresa los polos y ceros, sino la funcion de transferencia\n",
        "num, den=cheby2(N, rs=ripple, Wn=Wn, btype=filt, output=out, fs=fs) #Regresa numerador y denominador. Si se quiere obtener los polos y ceros usar scipy.signal.tf2zpk\n",
        "w, h=freqz(num, den, fs=fs)\n",
        "plot_freq_response('Chebyshev2', w, h, N)"
      ],
      "metadata": {
        "id": "uvVolHqsumBE"
      },
      "execution_count": null,
      "outputs": []
    },
    {
      "cell_type": "code",
      "source": [
        "#Aplicación del Filtro de Chebyshev 2:\n",
        "\n",
        "xf=lfilter(num, den, d, axis=0)\n",
        "Audio(xf, rate=fs) #Audio con ruido filtrado"
      ],
      "metadata": {
        "id": "RJYzcfdWvM0J"
      },
      "execution_count": null,
      "outputs": []
    },
    {
      "cell_type": "code",
      "source": [
        "#Escalamiento de la amplitud:\n",
        "\n",
        "me=(2/A1)*xf #Señal reescalada\n",
        "Audio(me, rate=fs) #Audio con ruido filtrado"
      ],
      "metadata": {
        "id": "QnywwrqNvT98"
      },
      "execution_count": null,
      "outputs": []
    },
    {
      "cell_type": "code",
      "source": [
        "plt.plot(tt, me) #Graficar señal recuperada\n",
        "plt.xlabel('$Tiempo [s]$')\n",
        "plt.ylabel('$m_e(t)$')\n",
        "plt.show()\n",
        "\n",
        "#Fourier a la señal recuperada:\n",
        "\n",
        "Mew=np.fft.rfft(me) #axis=0 permite aplicar FFT por cada columna de xpro\n",
        "plt.plot(vf, abs(Mew)) #Se grafica la magnitud\n",
        "plt.title(r'Espectro de la Señal Recuperada')\n",
        "plt.xlabel(r'$f[Hz]$', fontsize=14)\n",
        "plt.ylabel(r'$|M_e[f]|$', fontsize=14)\n",
        "plt.show()\n",
        "plt.plot(vf, np.angle(Mew)) #Fase del espectro\n",
        "plt.xlabel(r'$f[Hz]$', fontsize=14)\n",
        "plt.ylabel(r'$<M_e[f]$', fontsize=14)\n",
        "plt.show()"
      ],
      "metadata": {
        "id": "0j1IhjXNvP5Q"
      },
      "execution_count": null,
      "outputs": []
    }
  ]
}