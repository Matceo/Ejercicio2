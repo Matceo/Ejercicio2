{
  "nbformat": 4,
  "nbformat_minor": 0,
  "metadata": {
    "colab": {
      "provenance": [],
      "authorship_tag": "ABX9TyO9C2d3c+ouG8e0P8k1ML0o",
      "include_colab_link": true
    },
    "kernelspec": {
      "name": "python3",
      "display_name": "Python 3"
    },
    "language_info": {
      "name": "python"
    }
  },
  "cells": [
    {
      "cell_type": "markdown",
      "metadata": {
        "id": "view-in-github",
        "colab_type": "text"
      },
      "source": [
        "<a href=\"https://colab.research.google.com/github/Matceo/SyS./blob/main/S%26S%3ACondicionales.ipynb\" target=\"_parent\"><img src=\"https://colab.research.google.com/assets/colab-badge.svg\" alt=\"Open In Colab\"/></a>"
      ]
    },
    {
      "cell_type": "code",
      "execution_count": 3,
      "metadata": {
        "colab": {
          "base_uri": "https://localhost:8080/"
        },
        "id": "UJRVwQtRHkrF",
        "outputId": "fdc1bdc6-0f46-4d95-d315-d24303c626cb"
      },
      "outputs": [
        {
          "output_type": "stream",
          "name": "stdout",
          "text": [
            "Por favor, digite su edad: 17\n",
            "Por favor, digite el valor de sus ingresos mensuales (en EUR€): 1001\n",
            "Usted debe pagar impuestos.\n"
          ]
        }
      ],
      "source": [
        "#Ejercicio1\n",
        "\n",
        "Edad=int(input(\"Por favor, digite su edad: \"))\n",
        "IngresosMensuales=int(input(\"Por favor, digite el valor de sus ingresos mensuales (en EUR€): \"))\n",
        "if Edad>16 and IngresosMensuales>1000:\n",
        "  print(\"Usted debe pagar impuestos.\")\n",
        "else:\n",
        "  print(\"Usted no debe pagar impuestos.\")"
      ]
    },
    {
      "cell_type": "code",
      "source": [
        "#Ejercicio2\n",
        "\n",
        "PizzaVegetariana=[\"Pimiento\", \"Tofu\"]\n",
        "PizzaNoVegetariana=[\"Pepperoni\", \"Jamón\", \"Salmón\"]\n",
        "Elección=str(input(\"¿Desea ordenar pizza vegetariana? Si su respuesta es sí presione Y, por el contrario presione N: \"))\n",
        "if Elección==Y:\n",
        "  print(\"\")"
      ],
      "metadata": {
        "id": "wcd3izr7I9Sd"
      },
      "execution_count": null,
      "outputs": []
    }
  ]
}