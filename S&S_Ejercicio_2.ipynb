{
  "nbformat": 4,
  "nbformat_minor": 0,
  "metadata": {
    "colab": {
      "provenance": [],
      "authorship_tag": "ABX9TyNIjyU/d8cjLKeLZJgCQqRw",
      "include_colab_link": true
    },
    "kernelspec": {
      "name": "python3",
      "display_name": "Python 3"
    },
    "language_info": {
      "name": "python"
    }
  },
  "cells": [
    {
      "cell_type": "markdown",
      "metadata": {
        "id": "view-in-github",
        "colab_type": "text"
      },
      "source": [
        "<a href=\"https://colab.research.google.com/github/Matceo/Ejercicio2/blob/main/S%26S_Ejercicio_2.ipynb\" target=\"_parent\"><img src=\"https://colab.research.google.com/assets/colab-badge.svg\" alt=\"Open In Colab\"/></a>"
      ]
    },
    {
      "cell_type": "code",
      "execution_count": 24,
      "metadata": {
        "colab": {
          "base_uri": "https://localhost:8080/"
        },
        "id": "_HagHoONk-aU",
        "outputId": "3ada777c-ad27-473f-fe46-b9b2f2282228"
      },
      "outputs": [
        {
          "output_type": "stream",
          "name": "stdout",
          "text": [
            "¿Qué edad tienes?: 17\n",
            "Digite la cantidad de ingresos mensuales (en euros): 500\n",
            "Usted no debe pagar impuestos.\n"
          ]
        }
      ],
      "source": [
        "a=int(input(\"¿Qué edad tienes?: \"))\n",
        "b=int(input(\"Digite la cantidad de ingresos mensuales (en euros): \"))\n",
        "\n",
        "if a>16 and b>1000:\n",
        "  print(\"Usted debe pagar impuestos.\")\n",
        "else:\n",
        "  print(\"Usted no debe pagar impuestos.\")"
      ]
    },
    {
      "cell_type": "code",
      "source": [
        "a=str(input(\"¿Desea pizza vegetariana? Si desea presione Y, sino, presione N.: \"))\n",
        "N=False\n",
        "\n",
        "if a==Y:\n",
        "  print(\"Nuestra pizza vegetariana viene con pimienta y tofu.\")\n",
        "else:\n",
        "  print(\"Nuestra pizza no vegetariana es de pepperoni, jamón y salmón\")\n",
        "print(\"Puede elegir un ingrediente adicional además de la mozzarella y el tomate, que se incluyen en todas las pizzas.\")"
      ],
      "metadata": {
        "colab": {
          "base_uri": "https://localhost:8080/"
        },
        "id": "6Ybc1M4XnIPf",
        "outputId": "a30f07fa-5bd7-49e2-da11-f22bfc78bee4"
      },
      "execution_count": 36,
      "outputs": [
        {
          "output_type": "stream",
          "name": "stdout",
          "text": [
            "¿Desea pizza vegetariana? Si desea presione Y, sino, presione N.: Y\n",
            "Nuestra pizza no vegetariana es de pepperoni, jamón y salmón\n",
            "Puede elegir un ingrediente adicional además de la mozzarella y el tomate, que se incluyen en todas las pizzas.\n"
          ]
        }
      ]
    }
  ]
}