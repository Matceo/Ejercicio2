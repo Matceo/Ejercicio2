{
  "nbformat": 4,
  "nbformat_minor": 0,
  "metadata": {
    "colab": {
      "provenance": [],
      "authorship_tag": "ABX9TyN81Tfn3Apvjtg9gK7+Eqak",
      "include_colab_link": true
    },
    "kernelspec": {
      "name": "python3",
      "display_name": "Python 3"
    },
    "language_info": {
      "name": "python"
    }
  },
  "cells": [
    {
      "cell_type": "markdown",
      "metadata": {
        "id": "view-in-github",
        "colab_type": "text"
      },
      "source": [
        "<a href=\"https://colab.research.google.com/github/Matceo/SyS./blob/main/Serie%26TransformadaDeFourier./S%26S%3ASerieDeFourierTrigonom%C3%A9trica.ipynb\" target=\"_parent\"><img src=\"https://colab.research.google.com/assets/colab-badge.svg\" alt=\"Open In Colab\"/></a>"
      ]
    },
    {
      "cell_type": "code",
      "source": [
        "import numpy as np\n",
        "import matplotlib.pyplot as plt\n",
        "import sympy as sym\n",
        "\n",
        "#Definir las variables simbólicas:\n",
        "\n",
        "n=sym.symbols(\"n \", real=True)\n",
        "t=sym.symbols(\"t \", real=True)\n",
        "\n",
        "#Definir la función periódica:\n",
        "\n",
        "Tmin=-1/2\n",
        "Tmax=1/2\n",
        "T=Tmax-Tmin #Definimos el periodo\n",
        "wo=(2*np.pi)/T #Definimos el omega\n",
        "\n",
        "x=sym.Heaviside(t+1/4)-sym.Heaviside(t-1/4) #Definimos la función\n",
        "\n",
        "#Calculamos los coeficientes de Fourier:\n",
        "\n",
        "f_integrar=x #Función que vamos a integrar\n",
        "a0=(2/T)*(sym.integrate(f_integrar, (t, -1/4, 1/4))) #Para hallar a0\n",
        "print(\"a0= \")\n",
        "sym.pprint(a0) #Imprimir desde sympy\n",
        "\n",
        "#Calculamos la integral para an:\n",
        "\n",
        "f_integrar=x*sym.cos(n*wo*t) #Función que vamos a integrar\n",
        "an=(4/T)*sym.integrate(f_integrar, (t, 0, 1/4)) #Para hallar an\n",
        "an=sym.simplify(an)\n",
        "print(\"an= \")\n",
        "sym.pprint(an)\n",
        "\n",
        "#Calculamos la integral para bn:\n",
        "\n",
        "f_integrar=x*sym.sin(n*wo*t) #Función que vamos a integrar\n",
        "bn=(2/T)*sym.integrate(f_integrar,(t, -1/4, 1/4)) #Para hallar bn\n",
        "bn=sym.simplify(bn)\n",
        "print(\"bn= \")\n",
        "sym.pprint(bn)\n",
        "\n",
        "#Usando los coeficientes, representamos la expansión en Serie de Fourier:\n",
        "\n",
        "serie=0 #Definimos el número de armónicos para la expansión\n",
        "Armonicos=15\n",
        "\n",
        "for i in range(1, Armonicos+1):\n",
        "\n",
        "  an_c=an.subs(n, i)\n",
        "  if abs(an_c)<0.0001: an_c=0 #Términos coseno de la serie\n",
        "  serie=serie+an_c*sym.cos(i*wo*t)\n",
        "serie=a0/2+serie #Expansión final de la serie\n",
        "print(\"f(t)= \")\n",
        "sym.pprint(serie)\n",
        "\n",
        "#Graficamos la función periódica original y su expansión en Serie de Fourier:\n",
        "\n",
        "#Convertimos la expresión sympy a una función evaluable:\n",
        "\n",
        "fserie=sym.lambdify(t, serie)\n",
        "f=sym.lambdify(t, x)\n",
        "\n",
        "#Creamos un vector de tiempo para la gráfica:\n",
        "\n",
        "v_tiempo=np.linspace(Tmin, Tmax, 50)\n",
        "\n",
        "#Evaluamos las funciones:\n",
        "\n",
        "fserieG=fserie(v_tiempo)\n",
        "fG=f(v_tiempo)\n",
        "plt.plot(v_tiempo, fG, label=\"f(t)\")\n",
        "plt.plot(v_tiempo, fserieG, label=\"Expansión\")\n",
        "plt.xlabel(\"Tiempo\")\n",
        "plt.legend()\n",
        "plt.title(\"Expansión en Serie de Fourier\")\n",
        "plt.show()"
      ],
      "metadata": {
        "id": "BZk1MkowzYn5"
      },
      "execution_count": null,
      "outputs": []
    }
  ]
}