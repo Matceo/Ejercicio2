{
  "nbformat": 4,
  "nbformat_minor": 0,
  "metadata": {
    "colab": {
      "private_outputs": true,
      "provenance": [],
      "include_colab_link": true
    },
    "kernelspec": {
      "name": "python3",
      "display_name": "Python 3"
    },
    "language_info": {
      "name": "python"
    }
  },
  "cells": [
    {
      "cell_type": "markdown",
      "metadata": {
        "id": "view-in-github",
        "colab_type": "text"
      },
      "source": [
        "<a href=\"https://colab.research.google.com/github/Matceo/SyS./blob/main/TransformadaDeLaplace./S%26S%3ACircuitoRLC.ipynb\" target=\"_parent\"><img src=\"https://colab.research.google.com/assets/colab-badge.svg\" alt=\"Open In Colab\"/></a>"
      ]
    },
    {
      "cell_type": "code",
      "source": [
        "#Ejercicio1\n",
        "\n",
        "import sympy as sym\n",
        "import matplotlib.pyplot as plt\n",
        "import sympy.physics.control as control\n",
        "sym.init_printing()\n",
        "\n",
        "s=sym.symbols('s', complex=True)\n",
        "t, R, L, C, w=sym.symbols('t R L C omega', positive=True)\n",
        "\n",
        "#Entrada de interés en Laplace:\n",
        "\n",
        "X=w/(s**2+w**2) #Ajustar según tipo de entrada\n",
        "H=control.TransferFunction(1,(L*C)*s**2+(L*s)/R+1,s) #Función de transferencia con la API de control\n",
        "\n",
        "#HLC=H/(1+H) para lazo cerrado:\n",
        "\n",
        "Y=H.num*X/H.den #Función de transferencia del circuito multiplicado\n",
        "\n",
        "#Modelo en el tiempo en función de RLC:\n",
        "\n",
        "Ye=Y\n",
        "\n",
        "#Se recorre cada fracción parcial según factorización para simplificar cálculos:\n",
        "\n",
        "for j in range(len(Ye.args)):\n",
        "    if j==0: #Primer elemento de la solucion\n",
        "      yt=sym.inverse_laplace_transform(Ye.args[j], s, t)\n",
        "    else: #Siguientes elementos concatenados\n",
        "      yt+=sym.inverse_laplace_transform(Ye.args[j], s, t)\n",
        "\n",
        "#Modelo en el tiempo con RLC evaluados:\n",
        "\n",
        "RLC={R:1, L:sym.Rational('.5'), C:sym.Rational('.4')} #Valores utilizados para la simulación\n",
        "Ye=Y.subs(RLC)\n",
        "for j in range(len(Ye.args)):\n",
        "    if j==0:\n",
        "      yt=sym.inverse_laplace_transform(Ye.args[j], s, t)\n",
        "    else:\n",
        "      yt+=sym.inverse_laplace_transform(Ye.args[j], s, t)\n",
        "poles=sym.roots(sym.denom(Ye), s) #Se obtienen las raices del denominador\n",
        "zeros=sym.roots(sym.numer(Ye), s) #Se obitnene las raíces del numerador\n",
        "HRLC=control.TransferFunction(H.num, H.den.subs(RLC), s)\n",
        "control.pole_zero_plot(HRLC)\n",
        "control.bode_plot(HRLC)\n",
        "control.impulse_response_plot(HRLC)\n",
        "control.step_response_plot(HRLC)\n",
        "control.ramp_response_plot(HRLC)"
      ],
      "metadata": {
        "id": "2GRxz5PwoPMY"
      },
      "execution_count": null,
      "outputs": []
    }
  ]
}