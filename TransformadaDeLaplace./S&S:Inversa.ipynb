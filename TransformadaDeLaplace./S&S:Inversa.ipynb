{
  "nbformat": 4,
  "nbformat_minor": 0,
  "metadata": {
    "colab": {
      "private_outputs": true,
      "provenance": [],
      "include_colab_link": true
    },
    "kernelspec": {
      "name": "python3",
      "display_name": "Python 3"
    },
    "language_info": {
      "name": "python"
    }
  },
  "cells": [
    {
      "cell_type": "markdown",
      "metadata": {
        "id": "view-in-github",
        "colab_type": "text"
      },
      "source": [
        "<a href=\"https://colab.research.google.com/github/Matceo/SyS./blob/main/TransformadaDeLaplace./S%26S%3AInversa.ipynb\" target=\"_parent\"><img src=\"https://colab.research.google.com/assets/colab-badge.svg\" alt=\"Open In Colab\"/></a>"
      ]
    },
    {
      "cell_type": "code",
      "source": [
        "#Ejercicio1\n",
        "\n",
        "%matplotlib inline\n",
        "import sympy as sym\n",
        "sym.init_printing()\n",
        "\n",
        "s=sym.symbols('s', complex=True)\n",
        "t=sym.symbols('t', real=True)\n",
        "X=(1)/((s+1)*(s+2)**2)\n",
        "poles=sym.roots(sym.denom(X))\n",
        "A, B, C=sym.symbols('A B C', real=True)\n",
        "\n",
        "#Expresión en fracciones parciales:\n",
        "\n",
        "Xp=A/(s+1)+B/(s+2)+C/((s+2)**2)\n",
        "\n",
        "#Resolver coeficientes por igualación de expresiones:\n",
        "\n",
        "coeffs=sym.solve(sym.Eq(X, Xp), (A, B, C))\n",
        "Xp=Xp.subs(coeffs)\n",
        "x1=sym.inverse_laplace_transform(Xp.args[0], s, t) #Transformada inversa del primer componente\n",
        "x2=sym.inverse_laplace_transform(Xp.args[1], s, t) #Trasformada inversa del segundo componente\n",
        "x3=sym.inverse_laplace_transform(Xp.args[2], s, t) #Trasformada inversa del segundo componente\n",
        "x=x1+x2+x3\n",
        "sym.plot(x, (t, -0.1, 4), xlabel='$t$', ylabel='$x(t)$');"
      ],
      "metadata": {
        "id": "2GRxz5PwoPMY"
      },
      "execution_count": null,
      "outputs": []
    }
  ]
}