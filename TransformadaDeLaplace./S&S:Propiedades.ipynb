{
  "nbformat": 4,
  "nbformat_minor": 0,
  "metadata": {
    "colab": {
      "private_outputs": true,
      "provenance": [],
      "include_colab_link": true
    },
    "kernelspec": {
      "name": "python3",
      "display_name": "Python 3"
    },
    "language_info": {
      "name": "python"
    }
  },
  "cells": [
    {
      "cell_type": "markdown",
      "metadata": {
        "id": "view-in-github",
        "colab_type": "text"
      },
      "source": [
        "<a href=\"https://colab.research.google.com/github/Matceo/SyS./blob/main/TransformadaDeLaplace./S%26S%3APropiedades.ipynb\" target=\"_parent\"><img src=\"https://colab.research.google.com/assets/colab-badge.svg\" alt=\"Open In Colab\"/></a>"
      ]
    },
    {
      "cell_type": "code",
      "source": [
        "#Ejercicio1\n",
        "\n",
        "%matplotlib inline\n",
        "import sympy as sym\n",
        "sym.init_printing() #Importar sympy y declarar variables simbólicas\n",
        "t=sym.symbols('t', real=True)\n",
        "s=sym.symbols('s', complex=True)\n",
        "\n",
        "#Integral transformada de Laplace:\n",
        "\n",
        "X=sym.integrate(sym.DiracDelta(t)*sym.exp(-s*t), (t, -sym.oo, sym.oo))\n",
        "s0=sym.symbols('s0', complex=True)\n",
        "\n",
        "#utilizamos la función de transformada de Laplace de sympy:\n",
        "\n",
        "X, a, cond=sym.laplace_transform(sym.exp(-s0*t), t, s)\n",
        "sigma, omega=sym.symbols('Sigma Omega') #Declarar las variables simbólicas y la expresión de la transformada\n",
        "X=1/(s+s0)\n",
        "X1=X.subs({s:sigma+sym.I*omega, s0:1+sym.I})\n",
        "\n",
        "#Gráfico en 3D:\n",
        "\n",
        "sym.plotting.plot3d(abs(X1), (sigma, -2, 2), (omega, -2, 2),\n",
        "                    xlabel=r'$\\Re\\{s\\}$', ylabel=r'$\\Im\\{s\\}$', title=r'$|X(s)|$');\n",
        "poles=sym.roots(sym.denom(X), s) #Se obtienen la raices del denominador\n",
        "zeros=sym.roots(sym.numer(X), s) #Se obtienen las raíces del numerador\n",
        "\n",
        "import matplotlib.pyplot as plt\n",
        "\n",
        "def pole_zero_plot(poles, zeros, ax=None):\n",
        "\n",
        "    for pole in poles:\n",
        "        plt.plot(complex(pole).real, complex(pole).imag, 'rx', markersize=10)\n",
        "    for zero in zeros:\n",
        "        plt.plot(complex(zero).real, complex(zero).imag, 'bo', markersize=10)\n",
        "    if ax is None:\n",
        "        ax=plt.gca()\n",
        "    ax.set_aspect(1)\n",
        "    plt.axis([-2, 2, -2, 2])\n",
        "    plt.xlabel(r'$\\Re \\{ s \\}$')\n",
        "    plt.ylabel(r'$\\Im \\{ s \\}$')\n",
        "    plt.grid()\n",
        "X2=X.subs(s0, 1+sym.I)\n",
        "pole_zero_plot(sym.roots(sym.denom(X2), s), sym.roots(sym.numer(X2), s))"
      ],
      "metadata": {
        "id": "2GRxz5PwoPMY"
      },
      "execution_count": null,
      "outputs": []
    }
  ]
}