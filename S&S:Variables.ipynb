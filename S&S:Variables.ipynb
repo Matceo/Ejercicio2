{
  "nbformat": 4,
  "nbformat_minor": 0,
  "metadata": {
    "colab": {
      "provenance": [],
      "authorship_tag": "ABX9TyPZ7zSYM+SJfiDhWuORjeQU",
      "include_colab_link": true
    },
    "kernelspec": {
      "name": "python3",
      "display_name": "Python 3"
    },
    "language_info": {
      "name": "python"
    }
  },
  "cells": [
    {
      "cell_type": "markdown",
      "metadata": {
        "id": "view-in-github",
        "colab_type": "text"
      },
      "source": [
        "<a href=\"https://colab.research.google.com/github/Matceo/SyS./blob/main/S%26S%3AVariables.ipynb\" target=\"_parent\"><img src=\"https://colab.research.google.com/assets/colab-badge.svg\" alt=\"Open In Colab\"/></a>"
      ]
    },
    {
      "cell_type": "code",
      "execution_count": 5,
      "metadata": {
        "colab": {
          "base_uri": "https://localhost:8080/"
        },
        "id": "zgAm2l0SEmZO",
        "outputId": "915fa9c3-c197-4afc-8a77-1eb9f9693821"
      },
      "outputs": [
        {
          "output_type": "stream",
          "name": "stdout",
          "text": [
            "4.0\n"
          ]
        }
      ],
      "source": [
        "#Ejercicio1\n",
        "\n",
        "x=((3+2)//2.5)**2\n",
        "print(x)"
      ]
    },
    {
      "cell_type": "code",
      "source": [
        "#Ejercicio2\n",
        "\n",
        "HorasTrabajadas=int(input(\"Por favor, digite el número de horas trabajadas: \"))\n",
        "ValorDeHora=int(input(\"Por favor, digite el valor de una hora trabajada (en $COP): \"))\n",
        "Pago=HorasTrabajadas*ValorDeHora\n",
        "print(Pago)"
      ],
      "metadata": {
        "colab": {
          "base_uri": "https://localhost:8080/"
        },
        "id": "FsxOl71pFQz-",
        "outputId": "b2f35882-8963-4836-ecb1-8fa5b63fb77c"
      },
      "execution_count": 7,
      "outputs": [
        {
          "output_type": "stream",
          "name": "stdout",
          "text": [
            "Por favor, digite el número de horas trabajadas: 4\n",
            "Por favor, digite el valor de una hora trabajada (en $COP): 2000\n",
            "8000\n"
          ]
        }
      ]
    },
    {
      "cell_type": "code",
      "source": [
        "#Ejercicio3\n",
        "\n",
        "Peso=float(input(\"Por favor, digite su peso (en kilogramos): \"))\n",
        "Altura=float(input(\"Por favor, digite su altura (en metros): \"))\n",
        "BMI=Peso/Altura\n",
        "print(BMI)"
      ],
      "metadata": {
        "colab": {
          "base_uri": "https://localhost:8080/"
        },
        "id": "kQxcK5AfF0yv",
        "outputId": "71889c46-abff-449b-f45c-5470cbca540d"
      },
      "execution_count": 9,
      "outputs": [
        {
          "output_type": "stream",
          "name": "stdout",
          "text": [
            "Por favor, digite su peso (en kilogramos): 61\n",
            "Por favor, digite su altura (en metros): 1.73\n",
            "35.26011560693642\n"
          ]
        }
      ]
    }
  ]
}