{
  "nbformat": 4,
  "nbformat_minor": 0,
  "metadata": {
    "colab": {
      "provenance": [],
      "authorship_tag": "ABX9TyPPHXrM113227p7DTh7ondJ",
      "include_colab_link": true
    },
    "kernelspec": {
      "name": "python3",
      "display_name": "Python 3"
    },
    "language_info": {
      "name": "python"
    }
  },
  "cells": [
    {
      "cell_type": "markdown",
      "metadata": {
        "id": "view-in-github",
        "colab_type": "text"
      },
      "source": [
        "<a href=\"https://colab.research.google.com/github/Matceo/SyS./blob/main/S%26S%3AFunciones.ipynb\" target=\"_parent\"><img src=\"https://colab.research.google.com/assets/colab-badge.svg\" alt=\"Open In Colab\"/></a>"
      ]
    },
    {
      "cell_type": "code",
      "execution_count": 10,
      "metadata": {
        "colab": {
          "base_uri": "https://localhost:8080/"
        },
        "id": "4SiukPXiqVB7",
        "outputId": "2e26fb78-de79-4702-977a-1880a90952f5"
      },
      "outputs": [
        {
          "output_type": "stream",
          "name": "stdout",
          "text": [
            "859.5323946774781\n"
          ]
        }
      ],
      "source": [
        "#Ejercicio1\n",
        "\n",
        "from math import sqrt\n",
        "\n",
        "def Triángulo(s1, s2, s3):\n",
        "  Perímetro=(s1+s2+s3)/2\n",
        "  Área=(sqrt(Perímetro*(Perímetro-s1)*(Perímetro-s2)*(Perímetro-s3)))\n",
        "  return Área\n",
        "\n",
        "A=Triángulo(36, 48, 57)\n",
        "print(A)"
      ]
    }
  ]
}