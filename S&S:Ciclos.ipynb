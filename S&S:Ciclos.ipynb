{
  "nbformat": 4,
  "nbformat_minor": 0,
  "metadata": {
    "colab": {
      "provenance": [],
      "authorship_tag": "ABX9TyMr+qlHKX2p+vKjsQJUEPcJ",
      "include_colab_link": true
    },
    "kernelspec": {
      "name": "python3",
      "display_name": "Python 3"
    },
    "language_info": {
      "name": "python"
    }
  },
  "cells": [
    {
      "cell_type": "markdown",
      "metadata": {
        "id": "view-in-github",
        "colab_type": "text"
      },
      "source": [
        "<a href=\"https://colab.research.google.com/github/Matceo/SyS./blob/main/S%26S%3ACiclos.ipynb\" target=\"_parent\"><img src=\"https://colab.research.google.com/assets/colab-badge.svg\" alt=\"Open In Colab\"/></a>"
      ]
    },
    {
      "cell_type": "code",
      "execution_count": 5,
      "metadata": {
        "colab": {
          "base_uri": "https://localhost:8080/"
        },
        "id": "RU9tiHrrXB_7",
        "outputId": "91467b69-7d81-41d9-f751-0303d2123a07"
      },
      "outputs": [
        {
          "output_type": "stream",
          "name": "stdout",
          "text": [
            "Digite un número entero; digite el número cero para finalizar: 4\n",
            "Digite un número entero; digite el número cero para finalizar: 5\n",
            "Digite un número entero; digite el número cero para finalizar: 6\n",
            "Digite un número entero; digite el número cero para finalizar: 0\n",
            "Fin del programa. La cantidad de números enteros digitados antes de finalizar el programa es: 3\n"
          ]
        }
      ],
      "source": [
        "#Ejercicio1\n",
        "\n",
        "Contador=0\n",
        "Número=int(input(\"Digite un número entero; digite el número cero para finalizar: \"))\n",
        "while Número!=0:\n",
        "  Número=int(input(\"Digite un número entero; digite el número cero para finalizar: \"))\n",
        "  Contador+=1\n",
        "print(\"Fin del programa. La cantidad de números enteros digitados antes de finalizar el programa es:\", Contador)"
      ]
    },
    {
      "cell_type": "code",
      "source": [
        "#"
      ],
      "metadata": {
        "id": "nYAiZRjwa-Ad"
      },
      "execution_count": null,
      "outputs": []
    }
  ]
}