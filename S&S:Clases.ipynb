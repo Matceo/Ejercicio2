{
  "nbformat": 4,
  "nbformat_minor": 0,
  "metadata": {
    "colab": {
      "provenance": [],
      "authorship_tag": "ABX9TyPlTjTdTyE6N12uRe7a2OOF",
      "include_colab_link": true
    },
    "kernelspec": {
      "name": "python3",
      "display_name": "Python 3"
    },
    "language_info": {
      "name": "python"
    }
  },
  "cells": [
    {
      "cell_type": "markdown",
      "metadata": {
        "id": "view-in-github",
        "colab_type": "text"
      },
      "source": [
        "<a href=\"https://colab.research.google.com/github/Matceo/SyS./blob/main/S%26S%3AClases.ipynb\" target=\"_parent\"><img src=\"https://colab.research.google.com/assets/colab-badge.svg\" alt=\"Open In Colab\"/></a>"
      ]
    },
    {
      "cell_type": "code",
      "source": [
        "#Ejercicio1\n",
        "\n",
        "class Persona:\n",
        "    Nombre=str(input('Por favor, digite su nombre: '))\n",
        "    Edad=int(input('Por favor, digite su edad: '))\n",
        "    Género=str(input('Por favor, digite su género: '))\n",
        "    def Saludar(self):\n",
        "      print('Hola a todos.')\n",
        "    def Presentar(self):\n",
        "      print('A continuación me voy a presentar.')\n",
        "\n",
        "Presentación=Persona()\n",
        "Presentación.Saludar()\n",
        "Presentación.Presentar()\n",
        "print(f'Mi nombre es {Presentación.Nombre}, tengo {Presentación.Edad} años de edad y soy de género {Presentación.Género}.')"
      ],
      "metadata": {
        "colab": {
          "base_uri": "https://localhost:8080/"
        },
        "id": "hNPh3OLG9ELj",
        "outputId": "39165b35-760d-44eb-c3fe-266d7003c531"
      },
      "execution_count": 77,
      "outputs": [
        {
          "output_type": "stream",
          "name": "stdout",
          "text": [
            "Por favor, digite su nombre: Mateo\n",
            "Por favor, digite su edad: 24\n",
            "Por favor, digite su género: M\n",
            "Hola a todos.\n",
            "A continuación me voy a presentar.\n",
            "Mi nombre es Mateo, tengo 24 años de edad y soy de género M.\n"
          ]
        }
      ]
    },
    {
      "cell_type": "code",
      "source": [
        "#Ejercicio2\n",
        "\n",
        "class Carro:\n",
        "    Marca=str(input('Por favor, digite la marca de su vehículo: '))\n",
        "    Modelo=str(input('Por favor, digite el modelo de su vehículo: '))\n",
        "    Año=int(input('Por favor, digite el año de su vehículo: '))\n",
        "    Kilometraje=int(input('Por favor, digite el kilometraje de su vehículo: '))\n",
        "    def Arrancar(self):\n",
        "      print('Su vehículo está arrancando.')\n",
        "    def Acelerar(self):\n",
        "      print('Su vehículo está acelerando.')\n",
        "    def Frenar(self):\n",
        "      print('Su vehículo está frenando.')\n",
        "\n",
        "Vehículo=Carro()\n",
        "print(f'Su vehículo es {Vehículo.Marca} {Vehículo.Modelo} - {Vehículo.Año}, con un kilometraje de {Vehículo.Kilometraje}.')\n",
        "Vehículo.Arrancar()\n",
        "Vehículo.Acelerar()\n",
        "Vehículo.Frenar()"
      ],
      "metadata": {
        "colab": {
          "base_uri": "https://localhost:8080/"
        },
        "id": "nPQ2aA-O_PuF",
        "outputId": "909006a9-f1cc-4c63-e099-87cc62445a8e"
      },
      "execution_count": 78,
      "outputs": [
        {
          "output_type": "stream",
          "name": "stdout",
          "text": [
            "Por favor, digite la marca de su vehículo: Mazda\n",
            "Por favor, digite el modelo de su vehículo: 4\n",
            "Por favor, digite el año de su vehículo: 2021\n",
            "Por favor, digite el kilometraje de su vehículo: 1100\n",
            "Su vehículo es Mazda 4 - 2021, con un kilometraje de 1100.\n",
            "Su vehículo está arrancando.\n",
            "Su vehículo está acelerando.\n",
            "Su vehículo está frenando.\n"
          ]
        }
      ]
    },
    {
      "cell_type": "code",
      "source": [
        "#Ejercicio3\n",
        "\n",
        "class Rectángulo:\n",
        "    Longitud=int(input('Por favor, digite la longitud del rectángulo: '))\n",
        "    Ancho=int(input('Por favor, digite el ancho del rectángulo: '))\n",
        "    def Área(self):\n",
        "      Área=self.Longitud*self.Ancho\n",
        "    def Perímetro(self):\n",
        "      Perímetro=(self.Longitud*2)+(self.Ancho*2)\n",
        "\n",
        "Resultado=Rectángulo()\n",
        "Resultado.Perímetro()\n",
        "Resultado.Área\n",
        "print(f'El perímetro de su rectángulo es: {Resultado.Perímetro}. El área de su rectángulo es: {Resultado.Área}.')"
      ],
      "metadata": {
        "colab": {
          "base_uri": "https://localhost:8080/"
        },
        "id": "3cZUIvLOKZJ4",
        "outputId": "c259ae3a-71a5-4305-b161-cc0cdafc89d7"
      },
      "execution_count": 87,
      "outputs": [
        {
          "output_type": "stream",
          "name": "stdout",
          "text": [
            "Por favor, digite la longitud del rectángulo: 4\n",
            "Por favor, digite el ancho del rectángulo: 2\n",
            "El perímetro de su rectángulo es: <bound method Rectángulo.Perímetro of <__main__.Rectángulo object at 0x7ac4bc3a3910>>. El área de su rectángulo es: <bound method Rectángulo.Área of <__main__.Rectángulo object at 0x7ac4bc3a3910>>.\n"
          ]
        }
      ]
    },
    {
      "cell_type": "code",
      "source": [
        "#Ejercicio 4\n",
        "\n",
        "class Banco:\n",
        "    Nombre=str(input('Por favor, digite su nombre: '))\n",
        "    Dirección=(input('Por favor, digite su dirección: '))\n",
        "\n",
        "    def Abrir(self):\n",
        "      A=int(input('¿Desea abrir una cuenta bancaria? Oprima 1 si desea y 2 si no desea: '))\n",
        "      if A==1:\n",
        "        print(f'Su cuenta bancaria ha sido creada de manera correcta a nombre de {self.Nombre}, en la dirección {self.Dirección}.')\n",
        "      else:\n",
        "        print('Usted ya tiene una cuenta registrada.')\n",
        "    def Depositar(self):\n",
        "      Acumulador=0\n",
        "      A=int(input('¿Desea depositar dinero en su cuenta bancaria? Oprima 1 si desea y 2 si no desea: '))\n",
        "      if A==1:\n",
        "        D=int(input('Por favor, digite la cantidad de dinero que desea depositar (en COP$) a su cuenta bancaria: '))\n",
        "        Acumulador+=D\n",
        "        print(f'El saldo actual de su cuenta bancaria es: COP${self.Acumulador}.')\n",
        "    def Retirar(self):\n",
        "      A=int(input(f'El saldo actual de su cuenta bancaria es: COP${self.Acumulador}. ¿Desea retirar dinero de su cuenta bancaria? Oprima 1 si desea y 2 si no desea: '))\n",
        "      if A==1:\n",
        "        R=int(input('Por favor, digite la cantidad de dinero que desea retirar (enCOP$) de su cuenta bancaria: '))\n",
        "        if R>Acumulador:\n",
        "          print('Su saldo es in suficiente y el retiro no se puede realizar.')\n",
        "        else:\n",
        "          Acumulador-=R\n",
        "          print(f'Su retiro fue exitoso y el saldo actual en su cuenta bancaria es: COP${self.Acumulador}.')\n",
        "    def Revisar(self):\n",
        "      A=int(input('¿Desea revisar el saldo actual de su cuenta bancaria? Oprima 1 si desea y 2 si no desea:'))\n",
        "      if A==1:\n",
        "        print(f'El saldo actual de su cuenta bancaria es: COP${self.Acumulador}.')\n",
        "\n",
        "\n",
        "Saldo=Banco()\n",
        "Saldo.Abrir()\n",
        "Saldo.Depositar()\n",
        "Saldo.Retirar()\n",
        "Saldo.Revisar()"
      ],
      "metadata": {
        "colab": {
          "base_uri": "https://localhost:8080/",
          "height": 470
        },
        "id": "FvQGThdHRYEw",
        "outputId": "18586e53-da56-42d4-9f92-37035d2c6038"
      },
      "execution_count": 96,
      "outputs": [
        {
          "name": "stdout",
          "output_type": "stream",
          "text": [
            "Por favor, digite su nombre: Mateo\n",
            "Por favor, digite su dirección: Calle 5\n",
            "¿Desea abrir una cuenta bancaria? Oprima 1 si desea y 2 si no desea: 1\n",
            "Su cuenta bancaria ha sido creada de manera correcta a nombre de Mateo, en la dirección Calle 5.\n",
            "¿Desea depositar dinero en su cuenta bancaria? Oprima 1 si desea y 2 si no desea: 1\n",
            "Por favor, digite la cantidad de dinero que desea depositar (en COP$) a su cuenta bancaria: 5000\n"
          ]
        },
        {
          "output_type": "error",
          "ename": "AttributeError",
          "evalue": "ignored",
          "traceback": [
            "\u001b[0;31m---------------------------------------------------------------------------\u001b[0m",
            "\u001b[0;31mAttributeError\u001b[0m                            Traceback (most recent call last)",
            "\u001b[0;32m<ipython-input-96-d0d01533f58d>\u001b[0m in \u001b[0;36m<cell line: 37>\u001b[0;34m()\u001b[0m\n\u001b[1;32m     35\u001b[0m \u001b[0mSaldo\u001b[0m\u001b[0;34m=\u001b[0m\u001b[0mBanco\u001b[0m\u001b[0;34m(\u001b[0m\u001b[0;34m)\u001b[0m\u001b[0;34m\u001b[0m\u001b[0;34m\u001b[0m\u001b[0m\n\u001b[1;32m     36\u001b[0m \u001b[0mSaldo\u001b[0m\u001b[0;34m.\u001b[0m\u001b[0mAbrir\u001b[0m\u001b[0;34m(\u001b[0m\u001b[0;34m)\u001b[0m\u001b[0;34m\u001b[0m\u001b[0;34m\u001b[0m\u001b[0m\n\u001b[0;32m---> 37\u001b[0;31m \u001b[0mSaldo\u001b[0m\u001b[0;34m.\u001b[0m\u001b[0mDepositar\u001b[0m\u001b[0;34m(\u001b[0m\u001b[0;34m)\u001b[0m\u001b[0;34m\u001b[0m\u001b[0;34m\u001b[0m\u001b[0m\n\u001b[0m\u001b[1;32m     38\u001b[0m \u001b[0mSaldo\u001b[0m\u001b[0;34m.\u001b[0m\u001b[0mRetirar\u001b[0m\u001b[0;34m(\u001b[0m\u001b[0;34m)\u001b[0m\u001b[0;34m\u001b[0m\u001b[0;34m\u001b[0m\u001b[0m\n\u001b[1;32m     39\u001b[0m \u001b[0mSaldo\u001b[0m\u001b[0;34m.\u001b[0m\u001b[0mRevisar\u001b[0m\u001b[0;34m(\u001b[0m\u001b[0;34m)\u001b[0m\u001b[0;34m\u001b[0m\u001b[0;34m\u001b[0m\u001b[0m\n",
            "\u001b[0;32m<ipython-input-96-d0d01533f58d>\u001b[0m in \u001b[0;36mDepositar\u001b[0;34m(self)\u001b[0m\n\u001b[1;32m     17\u001b[0m         \u001b[0mD\u001b[0m\u001b[0;34m=\u001b[0m\u001b[0mint\u001b[0m\u001b[0;34m(\u001b[0m\u001b[0minput\u001b[0m\u001b[0;34m(\u001b[0m\u001b[0;34m'Por favor, digite la cantidad de dinero que desea depositar (en COP$) a su cuenta bancaria: '\u001b[0m\u001b[0;34m)\u001b[0m\u001b[0;34m)\u001b[0m\u001b[0;34m\u001b[0m\u001b[0;34m\u001b[0m\u001b[0m\n\u001b[1;32m     18\u001b[0m         \u001b[0mAcumulador\u001b[0m\u001b[0;34m+=\u001b[0m\u001b[0mD\u001b[0m\u001b[0;34m\u001b[0m\u001b[0;34m\u001b[0m\u001b[0m\n\u001b[0;32m---> 19\u001b[0;31m         \u001b[0mprint\u001b[0m\u001b[0;34m(\u001b[0m\u001b[0;34mf'El saldo actual de su cuenta bancaria es: COP${self.Acumulador}.'\u001b[0m\u001b[0;34m)\u001b[0m\u001b[0;34m\u001b[0m\u001b[0;34m\u001b[0m\u001b[0m\n\u001b[0m\u001b[1;32m     20\u001b[0m     \u001b[0;32mdef\u001b[0m \u001b[0mRetirar\u001b[0m\u001b[0;34m(\u001b[0m\u001b[0mself\u001b[0m\u001b[0;34m)\u001b[0m\u001b[0;34m:\u001b[0m\u001b[0;34m\u001b[0m\u001b[0;34m\u001b[0m\u001b[0m\n\u001b[1;32m     21\u001b[0m       \u001b[0mA\u001b[0m\u001b[0;34m=\u001b[0m\u001b[0mint\u001b[0m\u001b[0;34m(\u001b[0m\u001b[0minput\u001b[0m\u001b[0;34m(\u001b[0m\u001b[0;34mf'El saldo actual de su cuenta bancaria es: COP${self.Acumulador}. ¿Desea retirar dinero de su cuenta bancaria? Oprima 1 si desea y 2 si no desea: '\u001b[0m\u001b[0;34m)\u001b[0m\u001b[0;34m)\u001b[0m\u001b[0;34m\u001b[0m\u001b[0;34m\u001b[0m\u001b[0m\n",
            "\u001b[0;31mAttributeError\u001b[0m: 'Banco' object has no attribute 'Acumulador'"
          ]
        }
      ]
    }
  ]
}